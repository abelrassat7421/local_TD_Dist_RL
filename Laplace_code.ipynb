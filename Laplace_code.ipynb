{
 "cells": [
  {
   "cell_type": "code",
   "execution_count": 3,
   "metadata": {},
   "outputs": [],
   "source": [
    "# %matplotlib qt\n",
    "%matplotlib widget\n",
    "import numpy as np\n",
    "import matplotlib.pyplot as plt\n",
    "import seaborn as sns\n",
    "sns.set_style('dark')\n",
    "import scipy as sp\n",
    "from scipy.stats import multivariate_normal\n",
    "from matplotlib import cm\n",
    "from matplotlib.ticker import LinearLocator, FormatStrFormatter\n",
    "from mpl_toolkits.mplot3d import Axes3D  # noqa: F401 unused import\n",
    "import random\n",
    "import sys\n",
    "from scipy import linalg\n",
    "from scipy.signal import savgol_filter\n",
    "from matplotlib.pyplot import savefig\n",
    "sigmoid = lambda x,c,a: 1/(1 + np.exp(-a*(x-c))) #reward sensitivities"
   ]
  },
  {
   "cell_type": "markdown",
   "metadata": {},
   "source": [
    "# MP Linear Chain (Figure 3)"
   ]
  },
  {
   "cell_type": "markdown",
   "metadata": {},
   "source": [
    "Parameters"
   ]
  },
  {
   "cell_type": "code",
   "execution_count": 4,
   "metadata": {},
   "outputs": [],
   "source": [
    "num_states=4 #number of states in the MP\n",
    "alpha=0.01 #learning rate\n",
    "num_gammas=100 #number of gammas\n",
    "\n",
    "# the gammas are equally separated in the 1/log(gamma) space:\n",
    "taus=np.linspace(0.01,3,num_gammas)\n",
    "range_g=np.exp(-1/taus)\n",
    "# range_g=np.linspace(0.0,1,num_gammas)\n",
    "\n",
    "# range_g=np.linspace(0,1,num_gammas)\n",
    "\n",
    "num_trials=3000 #number of trials\n",
    "width=13 #width of the reward sensitivities\n",
    "num_h=250 #number of h's\n",
    "range_h=np.linspace(-3,3,num_h) #theta_h range"
   ]
  },
  {
   "cell_type": "code",
   "execution_count": 5,
   "metadata": {},
   "outputs": [
    {
     "name": "stdout",
     "output_type": "stream",
     "text": [
      "1 2 3 4 5 6 7 8 9 10 11 12 13 14 15 16 17 18 19 20 21 22 23 24 25 26 27 28 29 30 31 32 33 34 35 36 37 38 39 40 41 42 43 44 45 46 47 48 49 50 51 52 53 54 55 56 57 58 59 60 61 62 63 64 65 66 67 68 69 70 71 72 73 74 75 76 77 78 79 80 81 82 83 84 85 86 87 88 89 90 91 92 93 94 95 96 97 98 99 "
     ]
    }
   ],
   "source": [
    "i_g=0 #counter for the gammas\n",
    "V_gamma=np.zeros((len(range_g),num_states,num_h)) #initialize gamma-space\n",
    "\n",
    "for gamma in range_g[0:-1]: #loop over gammas\n",
    "    i_g=i_g+1\n",
    "    V=np.zeros((num_states,num_h))\n",
    "    for t in range(1,num_trials): #loop over trials\n",
    "        for s in range(1,num_states+1): #walk along the chain\n",
    "            \n",
    "            if s==1:\n",
    "                state=1\n",
    "                r1=np.random.choice([-2,2]);\n",
    "            elif s==2:\n",
    "                state=2\n",
    "                r2=np.random.choice([-2,2])\n",
    "            elif s==3:\n",
    "                state=3\n",
    "                r3=np.random.choice([-1,1])\n",
    "            elif s==4:\n",
    "                state=4\n",
    "                r4=np.random.choice([-1,1])\n",
    "            \n",
    "            \n",
    "            if state==1:\n",
    "                    R=sigmoid(r1,range_h,width); #R=f_h(r1)\n",
    "                    delta= R + gamma*V[1,:] - V[0,:]\n",
    "                    V[0,:]=V[0,:]+alpha*delta;\n",
    "            elif state==2:\n",
    "                    R=sigmoid(r2,range_h,width); \n",
    "                    delta= R + gamma*V[2,:] - V[1,:];\n",
    "                    V[1,:]=V[1,:]+alpha*delta;   \n",
    "            elif state==3:\n",
    "                    R=sigmoid(r3,range_h,width);\n",
    "                    delta= R + gamma*V[3,:] - V[2,:];\n",
    "                    V[2,:]=V[2,:]+alpha*delta;  \n",
    "            elif state==4:\n",
    "                    R=sigmoid(r4,range_h,width);\n",
    "                    delta= R - V[3,:];\n",
    "                    V[3,:]=V[3,:]+alpha*delta;\n",
    "    V_gamma[i_g,:,:]=V\n",
    "    print(i_g,end=' ')\n"
   ]
  },
  {
   "cell_type": "markdown",
   "metadata": {},
   "source": [
    "### $\\gamma$-Space"
   ]
  },
  {
   "cell_type": "code",
   "execution_count": 7,
   "metadata": {},
   "outputs": [
    {
     "data": {
      "application/vnd.jupyter.widget-view+json": {
       "model_id": "3646fef5e2474ef08af4bd2a6390c075",
       "version_major": 2,
       "version_minor": 0
      },
      "text/plain": [
       "Canvas(toolbar=Toolbar(toolitems=[('Home', 'Reset original view', 'home', 'home'), ('Back', 'Back to previous …"
      ]
     },
     "metadata": {},
     "output_type": "display_data"
    }
   ],
   "source": [
    "V_gamma2=V_gamma[4:-1,0,:]\n",
    "Z=V_gamma2[:,0:-2]-V_gamma2[:,1:-1]\n",
    "\n",
    "X,Y=np.meshgrid(range_h[0:-2],range_g[4:-1]);\n",
    "\n",
    "for h in range(0,num_h-2):\n",
    "    Z[:,h]=savgol_filter(Z[:,h], 15, 1)  \n",
    "\n",
    "    \n",
    "fig = plt.figure()\n",
    "ax = fig.gca(projection='3d')\n",
    "surf = ax.plot_surface(X, Y, Z, cmap='summer'\n",
    "                       , edgecolor='none',alpha=1)\n",
    "ax.view_init(60, -45)\n",
    "ax.set_zlim(0,0.15)\n",
    "ax.grid(b=None)\n",
    "plt.yticks([0,0.5,1])\n",
    "plt.xticks([-2,-1,0,1,2])\n",
    "ax.set_zlabel('Convergence value')\n",
    "ax.set_ylabel('Temporal Discount')\n",
    "ax.set_xlabel('Reward')\n",
    "plt.show()"
   ]
  },
  {
   "cell_type": "markdown",
   "metadata": {},
   "source": [
    "### $\\tau$-space by approximating $\\mathcal{L}^{-1}$ with SVD"
   ]
  },
  {
   "cell_type": "code",
   "execution_count": 8,
   "metadata": {},
   "outputs": [
    {
     "data": {
      "application/vnd.jupyter.widget-view+json": {
       "model_id": "1b5fbb0524f447fdb3fe1b16c6d3b2f8",
       "version_major": 2,
       "version_minor": 0
      },
      "text/plain": [
       "Canvas(toolbar=Toolbar(toolitems=[('Home', 'Reset original view', 'home', 'home'), ('Back', 'Back to previous …"
      ]
     },
     "metadata": {},
     "output_type": "display_data"
    },
    {
     "name": "stderr",
     "output_type": "stream",
     "text": [
      "/opt/anaconda3/lib/python3.7/site-packages/ipykernel_launcher.py:75: UserWarning: Z contains NaN values. This may result in rendering artifacts.\n",
      "/opt/anaconda3/lib/python3.7/site-packages/ipykernel_launcher.py:80: UserWarning: Z contains NaN values. This may result in rendering artifacts.\n",
      "/opt/anaconda3/lib/python3.7/site-packages/ipykernel_launcher.py:85: UserWarning: Z contains NaN values. This may result in rendering artifacts.\n",
      "/opt/anaconda3/lib/python3.7/site-packages/ipykernel_launcher.py:90: UserWarning: Z contains NaN values. This may result in rendering artifacts.\n"
     ]
    }
   ],
   "source": [
    "alpha_reg=0.2 #Regularization parameter\n",
    "\n",
    "K=4 #Temporal horizon\n",
    "delta_t=1 #Temporal resolution\n",
    "\n",
    "#define matrix F:\n",
    "F=np.zeros((len(range_g),K))\n",
    "for i_g in range(0,len(range_g)):\n",
    "    for i_t in range(0,K):\n",
    "        F[i_g,i_t]=range_g[i_g]**(i_t*delta_t)\n",
    "\n",
    "        \n",
    "U, lam, V = linalg.svd(F) #SVD decomposition of F\n",
    "\n",
    "#set up gamma-space:\n",
    "V_gamma2=V_gamma[:,0,:]\n",
    "Z=V_gamma2[:,0:-2]-V_gamma2[:,1:-1]\n",
    "\n",
    "\n",
    "#smooth gamma-space (it might not be necessary, it helps if the input is *very* noisy):\n",
    "# for h in range(0,num_h-2):\n",
    "#     Z[:,h]=savgol_filter(Z[:,h], 5, 1)\n",
    "\n",
    "#Linearly recover tau-space from eigenspace of F:\n",
    "tau_space=np.zeros((K,num_h-2))\n",
    "for h in range(0,num_h-2):\n",
    "    term=np.zeros((1,K))\n",
    "    for i in range(0,len(lam)):\n",
    "        fi=lam[i]**2/(alpha_reg**2+lam[i]**2)\n",
    "        new=fi*(((U[:,i]@Z[:,h])*V[i,:] )/lam[i])\n",
    "        term=term+new\n",
    "    tau_space[:,h]=term\n",
    "\n",
    "    \n",
    "#smooth gamma-space (it might not be necessary, use for a smoother visualization):\n",
    "# for h in range(0,num_h-2):\n",
    "#     tau_space[:,h]=savgol_filter(tau_space[:,h], 11, 1)\n",
    "\n",
    "\n",
    "#Normalization (it is not really necessary for this very short temporal horizon T=4):\n",
    "tau_space[tau_space<0]=0 #make all probabilities positive\n",
    "for i in range(0,len(tau_space)): #normalize\n",
    "    if np.nansum(tau_space[i,:])>0.0:\n",
    "        tau_space[i,:]=tau_space[i,:]/np.nansum(tau_space[i,:])\n",
    "        \n",
    "\n",
    "\n",
    "#Thin black lines that indicate true (smoothed) reward probability in tau-space of Fig.3:\n",
    "i_t=0\n",
    "P_r=np.nan*np.zeros((len(taus)-1,num_h+1))\n",
    "for tau in taus[0:-2]:\n",
    "    i_t=i_t+1\n",
    "    for n in range(1,num_h):\n",
    "        if tau<1.6:\n",
    "            R=0.5*(sigmoid(-2,range_h[n],width)+sigmoid(2,range_h[n],width));\n",
    "        elif tau>1.6:\n",
    "            R=0.5*(sigmoid(-1,range_h[n],width)+sigmoid(1,range_h[n],width));\n",
    "        P_r[i_t,n]=R\n",
    "P_r=P_r[:,0:-1]-P_r[:,1:]\n",
    "\n",
    "\n",
    "\n",
    "#Plot figure\n",
    "plt.close(); fig=plt.figure()\n",
    "plt.clf()\n",
    "ax = fig.gca(projection='3d')\n",
    "X,Y=np.meshgrid(range_h[0:-2],delta_t*np.linspace(0,K-1,K)) #grid to plot\n",
    "\n",
    "surf = ax.plot_surface(X, Y, tau_space, cmap='summer'\n",
    "                           , edgecolor='none',alpha=1)\n",
    "\n",
    "[X1,Y1]=np.meshgrid(range_h[0:-1],taus[3:5]-0.12);\n",
    "Z1=P_r[3:5,0:-1];\n",
    "surf = ax.plot_surface(X1, Y1, Z1, color=[0,0,0]\n",
    "                           , edgecolor='none',alpha=0.4)\n",
    "\n",
    "[X1,Y1]=np.meshgrid(range_h[0:-1],taus[27:29]+0.18);\n",
    "Z1=P_r[27:29,0:-1]*0.95;\n",
    "surf = ax.plot_surface(X1, Y1, Z1, color=[0,0,0]\n",
    "                           , edgecolor='none',alpha=0.4)\n",
    "\n",
    "[X1,Y1]=np.meshgrid(range_h[0:-1],taus[57:59]+0.25);\n",
    "Z1=P_r[57:59,0:-1]*1;\n",
    "surf = ax.plot_surface(X1, Y1, Z1, color=[0,0,0]\n",
    "                           , edgecolor='none',alpha=0.4)\n",
    "\n",
    "[X1,Y1]=np.meshgrid(range_h[0:-1],taus[57:59]+1.25);\n",
    "Z1=P_r[57:59,0:-1]*1;\n",
    "surf = ax.plot_surface(X1, Y1, Z1, color=[0,0,0]\n",
    "                           , edgecolor='none',alpha=0.4)\n",
    "\n",
    "\n",
    "ax.grid(b=None)\n",
    "\n",
    "ax.view_init(60, -45)\n",
    "plt.yticks([0,1,2,3])\n",
    "plt.xticks([-2,-1,0,1,2])\n",
    "ax.set_zlim(0,0.085)\n",
    "ax.set_zlabel('Probability')\n",
    "ax.set_ylabel('Future Time')\n",
    "ax.set_xlabel('Reward')\n",
    "fig.canvas.draw_idle()\n"
   ]
  },
  {
   "cell_type": "markdown",
   "metadata": {},
   "source": [
    "# MDP Double Chain (Figure 5)"
   ]
  },
  {
   "cell_type": "markdown",
   "metadata": {},
   "source": [
    "Parameters"
   ]
  },
  {
   "cell_type": "code",
   "execution_count": 452,
   "metadata": {},
   "outputs": [],
   "source": [
    "num_states=6\n",
    "alpha=0.01\n",
    "num_gammas=100\n",
    "\n",
    "# range_g=np.linspace(0,1,num_gammas)\n",
    "taus=np.linspace(0.01,num_states,num_gammas)\n",
    "range_g=np.exp(-1/taus)\n",
    "\n",
    "num_trials=3000\n",
    "width=25\n",
    "num_h=150\n",
    "range_h=np.linspace(-0.25,1.25,num_h)"
   ]
  },
  {
   "cell_type": "code",
   "execution_count": 453,
   "metadata": {},
   "outputs": [
    {
     "name": "stdout",
     "output_type": "stream",
     "text": [
      "1 2 3 4 5 6 7 8 9 10 11 12 13 14 15 16 17 18 19 20 21 22 23 24 25 26 27 28 29 30 31 32 33 34 35 36 37 38 39 40 41 42 43 44 45 46 47 48 49 50 51 52 53 54 55 56 57 58 59 60 61 62 63 64 65 66 67 68 69 70 71 72 73 74 75 76 77 78 79 80 81 82 83 84 85 86 87 88 89 90 91 92 93 94 95 96 97 98 "
     ]
    }
   ],
   "source": [
    "i_g=0\n",
    "V_gamma=np.zeros((len(range_g),2*num_states-1,num_h))\n",
    "for gamma in range_g[0:-2]:\n",
    "    i_g=i_g+1\n",
    "   #set V such that components [0:num_states-1] belong to branch 1 (top in Figure), \n",
    "   #and components [num_states:2*num_states-1] to branch 2 (bottom)\n",
    "    V=np.zeros((2*num_states-1,num_h))\n",
    "    for t in range(1,num_trials):\n",
    "        for s in range(1,num_states+1):\n",
    "\n",
    "            \n",
    "            if s==1:\n",
    "                r=0;\n",
    "                branch=1+np.random.binomial(1, 0.5)\n",
    "            elif s==2 and branch==1:\n",
    "                r=0.6\n",
    "            elif s==2 and branch==2:\n",
    "                r=0\n",
    "            elif s==3:\n",
    "                r=0\n",
    "            elif s==4:\n",
    "                r=0\n",
    "            elif s==5:\n",
    "                r=0\n",
    "            elif s==6 and branch==1:\n",
    "                r=0\n",
    "            elif s==6 and branch==2:\n",
    "                r=1 \n",
    "                \n",
    "            \n",
    "            R=sigmoid(r,range_h,width)\n",
    "            if s==1 and branch==1:\n",
    "                delta= R + gamma*V[s,:] - V[s-1,:]\n",
    "                V[s-1,:]=V[s-1,:]+alpha*delta\n",
    "            elif s==1 and branch==2:\n",
    "                delta= R + gamma*V[s+num_states,:] - V[s-1,:]\n",
    "                V[s-1,:]=V[s-1,:]+alpha*delta\n",
    "                \n",
    "            elif s<num_states and branch==1:\n",
    "                delta= R + gamma*V[s,:] - V[s-1,:]\n",
    "                V[s-1,:]=V[s-1,:]+alpha*delta\n",
    "            elif s==num_states and branch==1:\n",
    "                delta= R  - V[s-1,:]\n",
    "                V[s-1,:]=V[s-1,:]+alpha*delta\n",
    "                \n",
    "            elif s<num_states and branch==2:\n",
    "                delta= R + gamma*V[s+num_states-1,:] - V[s+num_states-2,:]\n",
    "                V[s+num_states-2,:]=V[s+num_states-2,:]+alpha*delta\n",
    "            elif s==num_states and branch==2:\n",
    "                delta= R  - V[s+num_states-2,:]\n",
    "                V[s+num_states-2,:]=V[s+num_states-2,:]+alpha*delta\n",
    "\n",
    "    V_gamma[i_g,:,:]=V\n",
    "    print(i_g,end=' ')\n"
   ]
  },
  {
   "cell_type": "markdown",
   "metadata": {},
   "source": [
    "### Gamma space"
   ]
  },
  {
   "cell_type": "code",
   "execution_count": 493,
   "metadata": {},
   "outputs": [
    {
     "data": {
      "application/vnd.jupyter.widget-view+json": {
       "model_id": "22ce540f9fa04a5e95b49a7af0cbb9b1",
       "version_major": 2,
       "version_minor": 0
      },
      "text/plain": [
       "Canvas(toolbar=Toolbar(toolitems=[('Home', 'Reset original view', 'home', 'home'), ('Back', 'Back to previous …"
      ]
     },
     "metadata": {},
     "output_type": "display_data"
    }
   ],
   "source": [
    "fig = plt.figure()\n",
    "ax = fig.gca(projection='3d')\n",
    "V_gamma2=V_gamma[:,0,:]\n",
    "Z=V_gamma2[:,0:-2]-V_gamma2[:,1:-1]\n",
    "\n",
    "X,Y=np.meshgrid(range_h[0:-2],range_g);\n",
    "\n",
    "# for h in range(0,num_h-2):\n",
    "#     Z[:,h]=savgol_filter(Z[:,h], 11, 1)  \n",
    "\n",
    "surf = ax.plot_surface(X, Y, Z, cmap='summer'\n",
    "                       , edgecolor='none',vmin=0,vmax=0.07)\n",
    "\n",
    "ax.view_init(50, -45)\n",
    "ax.set_zlabel('Convergence value')\n",
    "ax.set_ylabel('Temporal Discount')\n",
    "ax.set_xlabel('Reward')\n",
    "\n",
    "plt.show()"
   ]
  },
  {
   "cell_type": "markdown",
   "metadata": {},
   "source": [
    "### $\\mathcal{L}^{-1}$ with SVD"
   ]
  },
  {
   "cell_type": "code",
   "execution_count": 459,
   "metadata": {},
   "outputs": [
    {
     "data": {
      "application/vnd.jupyter.widget-view+json": {
       "model_id": "72419c00a05b40ecb5d29bc602ff4047",
       "version_major": 2,
       "version_minor": 0
      },
      "text/plain": [
       "Canvas(toolbar=Toolbar(toolitems=[('Home', 'Reset original view', 'home', 'home'), ('Back', 'Back to previous …"
      ]
     },
     "metadata": {},
     "output_type": "display_data"
    }
   ],
   "source": [
    "\n",
    "alpha_reg=0.55 #regularization parameter\n",
    "\n",
    "\n",
    "K=num_states-1 #Temporal horizon of tau-space\n",
    "delta_t=1/4 #Temporal resolution (change alpha_reg accordingly)\n",
    "K=int(K/delta_t) #K is now the length of the tau_space\n",
    "\n",
    "#Set up matrix F\n",
    "F=np.zeros((len(range_g),K))\n",
    "for i_g in range(0,len(range_g)):\n",
    "    for i_t in range(0,K):\n",
    "        F[i_g,i_t]=range_g[i_g]**(i_t*delta_t)\n",
    "     \n",
    "\n",
    "    \n",
    "U, lam, V = linalg.svd(F)\n",
    "\n",
    "\n",
    "#set up gamma-space:\n",
    "V_gamma2=V_gamma[:,0,:]\n",
    "Z=V_gamma2[:,0:-2]-V_gamma2[:,1:-1]\n",
    "\n",
    "#smooth gamma space (not necessary):\n",
    "# for h in range(0,num_h-2):\n",
    "#     Z[:,h]=savgol_filter(Z[:,h], 7, 1)\n",
    "\n",
    "#Linearly recover tau-space from eigenspace of F:\n",
    "tau_space=np.zeros((K,num_h-2))\n",
    "for h in range(0,num_h-2):\n",
    "    term=np.zeros((1,K))\n",
    "    for i in range(0,len(lam)):\n",
    "        fi=lam[i]**2/(alpha_reg**2+lam[i]**2)\n",
    "        new=fi*(((U[:,i]@Z[:,h])*V[i,:] )/lam[i])\n",
    "        term=term+new\n",
    "    tau_space[:,h]=term\n",
    "\n",
    "#Smooth tau-space (not necessary):\n",
    "# for h in range(0,num_h-2):\n",
    "#     tau_space[:,h]=savgol_filter(tau_space[:,h], 7, 1)\n",
    "\n",
    "\n",
    "#Normalization\n",
    "tau_space[tau_space<0]=0 #Probabilities are positive\n",
    "for i in range(0,len(tau_space)): #normalize\n",
    "    if np.nansum(tau_space[i,:])>0.001:\n",
    "        tau_space[i,:]=tau_space[i,:]/np.nansum(tau_space[i,:])\n",
    "        \n",
    "\n",
    "\n",
    "plt.close(); fig=plt.figure()\n",
    "\n",
    "plt.clf()\n",
    "ax = fig.gca(projection='3d')\n",
    "\n",
    "X,Y=np.meshgrid(range_h[0:-2],delta_t*np.linspace(0,K,K))\n",
    "\n",
    "surf = ax.plot_surface(X, Y, tau_space, cmap='summer'\n",
    "                           , edgecolor='none')\n",
    "\n",
    "\n",
    "ax.view_init(50, -45)\n",
    "# plt.ylim(0, 3.1)\n",
    "ax.set_zlim(0,0.035)\n",
    "fig.canvas.draw_idle()\n",
    "ax.set_zlabel('Probability')\n",
    "ax.set_ylabel('Future Time')\n",
    "ax.set_xlabel('Reward')\n",
    "# savefig('demo.png', transparent=True)"
   ]
  },
  {
   "cell_type": "markdown",
   "metadata": {},
   "source": [
    "# Laplace code that only varies along $\\gamma$, not $h$ (Figure A.1)"
   ]
  },
  {
   "cell_type": "markdown",
   "metadata": {},
   "source": [
    "Parameters"
   ]
  },
  {
   "cell_type": "code",
   "execution_count": 494,
   "metadata": {},
   "outputs": [],
   "source": [
    "\n",
    "num_states=9\n",
    "length_branch_1=1\n",
    "length_branch_2=8\n",
    "alpha=0.1\n",
    "num_gammas=100\n",
    "range_g=np.linspace(0,1,num_gammas)\n",
    "# taus=np.linspace(0.1,num_states,num_gammas)\n",
    "# range_g=np.exp(-1/taus)\n",
    "\n",
    "num_trials=3000\n"
   ]
  },
  {
   "cell_type": "code",
   "execution_count": 495,
   "metadata": {},
   "outputs": [
    {
     "name": "stdout",
     "output_type": "stream",
     "text": [
      "1 2 3 4 5 6 7 8 9 10 11 12 13 14 15 16 17 18 19 20 21 22 23 24 25 26 27 28 29 30 31 32 33 34 35 36 37 38 39 40 41 42 43 44 45 46 47 48 49 50 51 52 53 54 55 56 57 58 59 60 61 62 63 64 65 66 67 68 69 70 71 72 73 74 75 76 77 78 79 80 81 82 83 84 85 86 87 88 89 90 91 92 93 94 95 96 97 98 99 "
     ]
    }
   ],
   "source": [
    "i_g=0\n",
    "V_gamma=np.zeros((len(range_g),num_states))\n",
    "for gamma in range_g[0:-1]:\n",
    "    i_g=i_g+1\n",
    "    V=np.zeros((num_states))\n",
    "    for t in range(1,num_trials):\n",
    "        for s in range(1,num_states+1):\n",
    "            \n",
    "            r=0\n",
    "            state=s-1\n",
    "            if state==0:\n",
    "                branch=1+np.random.binomial(1, 1)\n",
    "            elif state==length_branch_1 and branch==2: \n",
    "                r=1\n",
    "            elif state==length_branch_2 and branch==2: \n",
    "                r=1\n",
    "    \n",
    "\n",
    "            end_state=num_states-1\n",
    "                \n",
    "            if state<end_state:\n",
    "                delta= r + gamma*V[state+1] - V[state]\n",
    "                V[state]=V[state]+alpha*delta;\n",
    "            elif state==end_state:\n",
    "                delta= r  - V[state]\n",
    "                V[state]=V[state]+alpha*delta;\n",
    "                \n",
    "                \n",
    "    V_gamma[i_g,:]=V[:] \n",
    "    print(i_g,end=' ')\n"
   ]
  },
  {
   "cell_type": "code",
   "execution_count": 500,
   "metadata": {},
   "outputs": [
    {
     "data": {
      "application/vnd.jupyter.widget-view+json": {
       "model_id": "4391d0654bdf444185825d62888ae5f6",
       "version_major": 2,
       "version_minor": 0
      },
      "text/plain": [
       "Canvas(toolbar=Toolbar(toolitems=[('Home', 'Reset original view', 'home', 'home'), ('Back', 'Back to previous …"
      ]
     },
     "metadata": {},
     "output_type": "display_data"
    }
   ],
   "source": [
    "plt.close(); fig=plt.figure()\n",
    "Z=V_gamma[:,0]\n",
    "\n",
    "plt.plot(range_g[:],Z*1.04,color='tab:blue',linewidth=4)\n",
    "plt.plot(range_g[:],Z*1.04,'o',color='tab:blue',markersize=6)\n",
    "plt.yticks(ticks=[0,1,2])\n",
    "plt.xlabel('Temporal Discount ($\\gamma$)')\n",
    "plt.ylabel('Convergence Value ($V_\\gamma$)')\n",
    "plt.grid()\n"
   ]
  },
  {
   "cell_type": "markdown",
   "metadata": {},
   "source": [
    "### $\\mathcal{L}^{-1}$ with SVD"
   ]
  },
  {
   "cell_type": "code",
   "execution_count": 504,
   "metadata": {},
   "outputs": [
    {
     "data": {
      "application/vnd.jupyter.widget-view+json": {
       "model_id": "25cc95d390744996940118d74bb42cdd",
       "version_major": 2,
       "version_minor": 0
      },
      "text/plain": [
       "Canvas(toolbar=Toolbar(toolitems=[('Home', 'Reset original view', 'home', 'home'), ('Back', 'Back to previous …"
      ]
     },
     "metadata": {},
     "output_type": "display_data"
    }
   ],
   "source": [
    "\n",
    "alpha_reg=0 # tau-space Without regularization\n",
    "# alpha_reg=0.0001 # tau-space With regularization\n",
    "\n",
    "\n",
    "\n",
    "Z=V_gamma[1:-1,0]\n",
    "\n",
    "K=num_states+2\n",
    "delta_t=1\n",
    "\n",
    "A=np.zeros((len(range_g[1:-1]),K))\n",
    "for i_g in range(0,len(range_g[1:-1])):\n",
    "    for i_t in range(0,K):\n",
    "        A[i_g,i_t]=range_g[i_g]**(i_t*delta_t)\n",
    "     \n",
    "\n",
    "    \n",
    "U, lam, V = linalg.svd(A)\n",
    "\n",
    "tau_space=np.zeros((K,1))\n",
    "\n",
    "term=np.zeros((1,K))\n",
    "for i in range(0,len(lam)):\n",
    "    fi=lam[i]**2/((alpha_reg)**2+lam[i]**2)\n",
    "    new=fi*(((U[:,i]@Z)*V[i,:] )/lam[i])\n",
    "    term=term+new\n",
    "tau_space=term\n",
    "\n",
    "\n",
    "plt.close(); fig=plt.figure()\n",
    "\n",
    "plt.plot(delta_t*np.linspace(0,K-1,K),tau_space.T,linewidth=4,color='tab:blue')\n",
    "plt.plot(delta_t*np.linspace(0,K-1,K),tau_space.T,'o',color='tab:blue',markersize=6)\n",
    "plt.yticks(ticks=[0,1])\n",
    "plt.xlabel('Future Time ($\\\\tau$)')\n",
    "plt.ylabel('Expected reward $E[r_\\\\tau]$')\n",
    "plt.grid()\n"
   ]
  },
  {
   "cell_type": "markdown",
   "metadata": {},
   "source": [
    "## Coffee example from the video presentation"
   ]
  },
  {
   "cell_type": "markdown",
   "metadata": {},
   "source": [
    "Parameters"
   ]
  },
  {
   "cell_type": "code",
   "execution_count": 460,
   "metadata": {},
   "outputs": [],
   "source": [
    "num_states=15 #number of states in the MP\n",
    "alpha=0.01 #learning rate\n",
    "num_gammas=100 #number of gammas\n",
    "\n",
    "# the gammas are equally separated in the 1/log(gamma) space:\n",
    "taus=np.linspace(0.01,num_states,num_gammas)\n",
    "range_g=np.exp(-1/taus)\n",
    "# range_g=np.linspace(0.0,1,num_gammas)\n",
    "\n",
    "# range_g=np.linspace(0,1,num_gammas)\n",
    "\n",
    "num_trials=5000 #number of trials\n",
    "width=2 #width of the reward sensitivities\n",
    "num_h=250 #number of h's\n",
    "range_h=np.linspace(-6,8,num_h) #theta_h range"
   ]
  },
  {
   "cell_type": "code",
   "execution_count": 461,
   "metadata": {},
   "outputs": [
    {
     "name": "stdout",
     "output_type": "stream",
     "text": [
      "1 2 3 4 5 6 7 8 9 10 11 12 13 14 15 16 17 18 19 20 21 22 23 24 25 26 27 28 29 30 31 32 33 34 35 36 37 38 39 40 41 42 43 44 45 46 47 48 49 50 51 52 53 54 55 56 57 58 59 60 61 62 63 64 65 66 67 68 69 70 71 72 73 74 75 76 77 78 79 80 81 82 83 84 85 86 87 88 89 90 91 92 93 94 95 96 97 98 99 "
     ]
    }
   ],
   "source": [
    "i_g=0 #counter for the gammas\n",
    "V_gamma=np.zeros((len(range_g),num_states,num_h)) #initialize gamma-space\n",
    "\n",
    "for gamma in range_g[0:-1]: #loop over gammas\n",
    "    i_g=i_g+1\n",
    "    V=np.zeros((num_states,num_h))\n",
    "    for t in range(1,num_trials): #loop over trials\n",
    "        for s in range(1,num_states+1): #walk along the chain\n",
    "            \n",
    "            if s==1:\n",
    "                r=np.random.choice([-5,-4])\n",
    "            elif s==2:\n",
    "                r=np.random.choice([-4,-3])\n",
    "            elif s==3:\n",
    "                r=np.random.choice([-3,-2])\n",
    "            elif s==4:\n",
    "                r=np.random.choice([-2,-1])\n",
    "            elif s==5:\n",
    "                r=np.random.choice([4,5,6])\n",
    "            elif s==6:\n",
    "                r=np.random.choice([4,5,6])\n",
    "            elif s==7:\n",
    "                r=np.random.choice([4,5,6])\n",
    "            elif s==8:\n",
    "                r=np.random.choice([4,5,6])\n",
    "            elif s==9:\n",
    "                r=np.random.choice([4,5,6])\n",
    "            elif s==10:\n",
    "                r=np.random.choice([4,5,6])\n",
    "            elif s==11:\n",
    "                r=np.random.choice([4,5])\n",
    "            elif s==12:\n",
    "                r=np.random.choice([3,4])\n",
    "            elif s==13:\n",
    "                r=np.random.choice([2,3])\n",
    "            elif s==14:\n",
    "                r=np.random.choice([1,2])\n",
    "            elif s==15:\n",
    "                r=np.random.choice([0,1])\n",
    "            \n",
    "            if s<num_states:\n",
    "                R=sigmoid(r,range_h,width);\n",
    "                delta= R + gamma*V[s,:] - V[s-1,:]\n",
    "                V[s-1,:]=V[s-1,:]+alpha*delta\n",
    "            else:\n",
    "                delta= R - V[s-1,:]\n",
    "                V[s-1,:]=V[s-1,:]+alpha*delta\n",
    "                \n",
    "    V_gamma[i_g,:,:]=V\n",
    "    print(i_g,end=' ')\n"
   ]
  },
  {
   "cell_type": "markdown",
   "metadata": {},
   "source": [
    "### $\\gamma$-Space"
   ]
  },
  {
   "cell_type": "code",
   "execution_count": 462,
   "metadata": {},
   "outputs": [
    {
     "data": {
      "application/vnd.jupyter.widget-view+json": {
       "model_id": "8143ab83674747d7b77a1fe4d9f73829",
       "version_major": 2,
       "version_minor": 0
      },
      "text/plain": [
       "Canvas(toolbar=Toolbar(toolitems=[('Home', 'Reset original view', 'home', 'home'), ('Back', 'Back to previous …"
      ]
     },
     "metadata": {},
     "output_type": "display_data"
    }
   ],
   "source": [
    "from scipy import linalg\n",
    "from scipy.signal import savgol_filter\n",
    "fig = plt.figure()\n",
    "ax = fig.gca(projection='3d')\n",
    "V_gamma2=V_gamma[4:-1,0,:]\n",
    "Z=V_gamma2[:,0:-2]-V_gamma2[:,1:-1]\n",
    "\n",
    "X,Y=np.meshgrid(range_h[0:-2],range_g[4:-1]);\n",
    "\n",
    "\n",
    "surf = ax.plot_surface(X, Y, Z, cmap='summer'\n",
    "                       , edgecolor='none',alpha=1)\n",
    "\n",
    "ax.view_init(60, -45)\n",
    "\n",
    "ax.set_zlim(0,0.15)\n",
    "\n",
    "ax.grid(b=None)\n",
    "plt.yticks([0,0.5,1])\n",
    "plt.xticks([-2,-1,0,1,2])\n",
    "\n",
    "plt.show()"
   ]
  },
  {
   "cell_type": "markdown",
   "metadata": {},
   "source": [
    "### $\\tau$-space by approximating $\\mathcal{L}^{-1}$ with SVD"
   ]
  },
  {
   "cell_type": "code",
   "execution_count": 492,
   "metadata": {},
   "outputs": [
    {
     "data": {
      "application/vnd.jupyter.widget-view+json": {
       "model_id": "8a93e9299a674e1287544475c352c941",
       "version_major": 2,
       "version_minor": 0
      },
      "text/plain": [
       "Canvas(toolbar=Toolbar(toolitems=[('Home', 'Reset original view', 'home', 'home'), ('Back', 'Back to previous …"
      ]
     },
     "metadata": {},
     "output_type": "display_data"
    }
   ],
   "source": [
    "alpha_reg=0.3 #Regularization parameter\n",
    "\n",
    "K=14 #Temporal horizon\n",
    "delta_t=1/2 #Temporal resolution\n",
    "K=int(K/delta_t)\n",
    "\n",
    "#define matrix F:\n",
    "F=np.zeros((len(range_g),K))\n",
    "for i_g in range(0,len(range_g)):\n",
    "    for i_t in range(0,K):\n",
    "        F[i_g,i_t]=range_g[i_g]**(i_t*delta_t)\n",
    "\n",
    "        \n",
    "U, lam, V = linalg.svd(F) #SVD decomposition of F\n",
    "\n",
    "#set up gamma-space:\n",
    "V_gamma2=V_gamma[:,0,:]\n",
    "Z=V_gamma2[:,0:-2]-V_gamma2[:,1:-1]\n",
    "\n",
    "\n",
    "#Linearly recover tau-space from eigenspace of F:\n",
    "tau_space=np.zeros((K,num_h-2))\n",
    "for h in range(0,num_h-2):\n",
    "    term=np.zeros((1,K))\n",
    "    for i in range(0,len(lam)):\n",
    "        fi=lam[i]**2/(alpha_reg**2+lam[i]**2)\n",
    "        new=fi*(((U[:,i]@Z[:,h])*V[i,:] )/lam[i])\n",
    "        term=term+new\n",
    "    tau_space[:,h]=term\n",
    "\n",
    "\n",
    "\n",
    "#Normalization:\n",
    "tau_space[tau_space<0]=0 #make all probabilities positive\n",
    "for i in range(0,len(tau_space)): #normalize\n",
    "    if np.nansum(tau_space[i,:])>0.0:\n",
    "        tau_space[i,:]=tau_space[i,:]/np.nansum(tau_space[i,:])\n",
    "        \n",
    "\n",
    "\n",
    "#smooth gamma-space (it might not be necessary, use for a smoother visualization):\n",
    "for h in range(0,num_h-2):\n",
    "    tau_space[:,h]=savgol_filter(tau_space[:,h], 7, 1)\n",
    "\n",
    "\n",
    "#Plot figure\n",
    "plt.close(); fig=plt.figure()\n",
    "plt.clf()\n",
    "ax = fig.gca(projection='3d')\n",
    "\n",
    "X,Y=np.meshgrid(range_h[0:-2],delta_t*np.linspace(0,K,K)) #grid to plot\n",
    "\n",
    "surf = ax.plot_surface(X, Y, tau_space, cmap='summer'\n",
    "                           , edgecolor='none',alpha=1)\n",
    "# ax.grid(b=None)\n",
    "ax.grid(b=None)\n",
    "ax.view_init(70, -45)\n",
    "# plt.yticks(np.linspace(0,num_states,num_states+1))\n",
    "ax.set_zlabel('Probability')\n",
    "ax.set_ylabel('Future Time')\n",
    "ax.set_xlabel('Reward')\n",
    "# ax.set_zlim(0,0.085)\n",
    "fig.canvas.draw_idle()\n",
    "# savefig('demo.png', transparent=True)"
   ]
  },
  {
   "cell_type": "code",
   "execution_count": null,
   "metadata": {},
   "outputs": [],
   "source": []
  }
 ],
 "metadata": {
  "kernelspec": {
   "display_name": "Python 3",
   "language": "python",
   "name": "python3"
  },
  "language_info": {
   "codemirror_mode": {
    "name": "ipython",
    "version": 3
   },
   "file_extension": ".py",
   "mimetype": "text/x-python",
   "name": "python",
   "nbconvert_exporter": "python",
   "pygments_lexer": "ipython3",
   "version": "3.7.6"
  }
 },
 "nbformat": 4,
 "nbformat_minor": 4
}
